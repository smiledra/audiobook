{
 "cells": [
  {
   "cell_type": "code",
   "execution_count": null,
   "metadata": {},
   "outputs": [],
   "source": [
    "import os"
   ]
  },
  {
   "cell_type": "code",
   "execution_count": null,
   "metadata": {},
   "outputs": [],
   "source": [
    "files = os.listdir('./bible_jpn/')\n",
    "for f in files:\n",
    "    os.rename('./bible_jpn/' + f, './bible_jpn/bible_jpn_' + f)"
   ]
  },
  {
   "cell_type": "code",
   "execution_count": null,
   "metadata": {},
   "outputs": [],
   "source": [
    "files = os.listdir('./bible_jpn/')\n",
    "filenames = [f.replace('.wav', '') for f in files]\n",
    "file = open(\"name2path.txt\",\"w\")\n",
    "for n in range(len(files)):\n",
    "    file.write(filenames[n] + ' ' + './bible_jpn/' + files[n] + \"\\n\") \n",
    "file.close()"
   ]
  },
  {
   "cell_type": "code",
   "execution_count": null,
   "metadata": {},
   "outputs": [],
   "source": [
    "%%bash\n",
    "mkdir metadata/\n",
    "mv name2path.txt metadata/"
   ]
  },
  {
   "cell_type": "markdown",
   "metadata": {},
   "source": [
    "## Japanese Librivox recordings."
   ]
  },
  {
   "cell_type": "code",
   "execution_count": null,
   "metadata": {},
   "outputs": [],
   "source": [
    "files = os.listdir('./librivox_jpn/')\n",
    "for f in files:\n",
    "    os.rename('./librivox_jpn/' + f, './librivox_jpn/librivox_jpn_' + f)"
   ]
  },
  {
   "cell_type": "code",
   "execution_count": null,
   "metadata": {},
   "outputs": [],
   "source": [
    "%%bash\n",
    "cd librivox_jpn/\n",
    "mkdir wav\n",
    "mv !(wav) wav/\n",
    "mkdir metadata"
   ]
  },
  {
   "cell_type": "code",
   "execution_count": null,
   "metadata": {},
   "outputs": [],
   "source": [
    "files = os.listdir('./librivox_jpn/wav/')\n",
    "filenames = [f.replace('.wav', '') for f in files]\n",
    "file = open(\"./librivox_jpn/metadata/name2speaker.txt\",\"w\")\n",
    "for n in range(len(files)):\n",
    "    file.write(filenames[n] + ' ' + 'jpn00M' + \"\\n\")\n",
    "file.close()"
   ]
  },
  {
   "cell_type": "code",
   "execution_count": null,
   "metadata": {},
   "outputs": [],
   "source": [
    "files = os.listdir('./librivox_jpn/')\n",
    "filenames = [f.replace('.wav', '') for f in files]\n",
    "file = open(\"./metadata/name2path.txt\",\"a\")\n",
    "for n in range(len(files)):\n",
    "    file.write(filenames[n] + ' ' + './librivox_jpn/' + files[n] + \"\\n\")\n",
    "file.close()"
   ]
  },
  {
   "cell_type": "markdown",
   "metadata": {},
   "source": [
    "## English Librivox recordings.\n",
    "### 1. Renaming files"
   ]
  },
  {
   "cell_type": "code",
   "execution_count": null,
   "metadata": {},
   "outputs": [],
   "source": [
    "files = os.listdir('./librivox_eng_01/')\n",
    "for f in files:\n",
    "    os.rename('./librivox_eng_01/' + f, './librivox_eng_01/librivox_eng_01_' + f)"
   ]
  },
  {
   "cell_type": "code",
   "execution_count": null,
   "metadata": {},
   "outputs": [],
   "source": [
    "files = os.listdir('./librivox_eng_02/')\n",
    "for f in files:\n",
    "    os.rename('./librivox_eng_02/' + f, './librivox_eng_02/librivox_eng_02_' + f)"
   ]
  },
  {
   "cell_type": "code",
   "execution_count": null,
   "metadata": {},
   "outputs": [],
   "source": [
    "files = os.listdir('./librivox_eng_03/')\n",
    "for f in files:\n",
    "    os.rename('./librivox_eng_03/' + f, './librivox_eng_03/librivox_eng_03_' + f)"
   ]
  },
  {
   "cell_type": "code",
   "execution_count": null,
   "metadata": {},
   "outputs": [],
   "source": [
    "files = os.listdir('./librivox_eng_04/')\n",
    "for f in files:\n",
    "    os.rename('./librivox_eng_04/' + f, './librivox_eng_04/librivox_eng_04_' + f)"
   ]
  },
  {
   "cell_type": "code",
   "execution_count": null,
   "metadata": {},
   "outputs": [],
   "source": [
    "files = os.listdir('./librivox_eng_05/')\n",
    "for f in files:\n",
    "    os.rename('./librivox_eng_05/' + f, './librivox_eng_05/librivox_eng_05_' + f)"
   ]
  },
  {
   "cell_type": "code",
   "execution_count": null,
   "metadata": {},
   "outputs": [],
   "source": [
    "files = os.listdir('./librivox_eng_06/')\n",
    "for f in files:\n",
    "    os.rename('./librivox_eng_06/' + f, './librivox_eng_06/librivox_eng_06_' + f)"
   ]
  },
  {
   "cell_type": "code",
   "execution_count": null,
   "metadata": {},
   "outputs": [],
   "source": [
    "files = os.listdir('./librivox_eng_07/')\n",
    "for f in files:\n",
    "    os.rename('./librivox_eng_07/' + f, './librivox_eng_07/librivox_eng_07_' + f)"
   ]
  },
  {
   "cell_type": "code",
   "execution_count": null,
   "metadata": {},
   "outputs": [],
   "source": [
    "files = os.listdir('./librivox_eng_08/')\n",
    "for f in files:\n",
    "    os.rename('./librivox_eng_08/' + f, './librivox_eng_08/librivox_eng_08_' + f)"
   ]
  },
  {
   "cell_type": "code",
   "execution_count": null,
   "metadata": {},
   "outputs": [],
   "source": [
    "files = os.listdir('./librivox_eng_09/')\n",
    "for f in files:\n",
    "    os.rename('./librivox_eng_09/' + f, './librivox_eng_09/librivox_eng_09_' + f)"
   ]
  },
  {
   "cell_type": "code",
   "execution_count": null,
   "metadata": {},
   "outputs": [],
   "source": [
    "files = os.listdir('./librivox_eng_10/')\n",
    "for f in files:\n",
    "    os.rename('./librivox_eng_10/' + f, './librivox_eng_10/librivox_eng_10_' + f)"
   ]
  },
  {
   "cell_type": "markdown",
   "metadata": {},
   "source": [
    "### 2. name2path.txt"
   ]
  },
  {
   "cell_type": "code",
   "execution_count": null,
   "metadata": {},
   "outputs": [],
   "source": []
  },
  {
   "cell_type": "code",
   "execution_count": null,
   "metadata": {},
   "outputs": [],
   "source": [
    "%%bash\n",
    "cd bible_eng/\n",
    "mkdir wav\n",
    "mv !(wav) wav/\n",
    "mkdir metadata"
   ]
  },
  {
   "cell_type": "code",
   "execution_count": null,
   "metadata": {},
   "outputs": [],
   "source": [
    "%%bash\n",
    "cd bible_jpn/\n",
    "mkdir wav\n",
    "mv !(wav) wav/\n",
    "mkdir metadata"
   ]
  },
  {
   "cell_type": "code",
   "execution_count": null,
   "metadata": {},
   "outputs": [],
   "source": [
    "files = os.listdir('./bible_eng/wav/')\n",
    "filenames = [f.replace('.wav', '') for f in files]\n",
    "file = open(\"./bible_eng/metadata/name2path.txt\",\"w\")\n",
    "for n in range(len(files)):\n",
    "    file.write(filenames[n] + ' ' + files[n] + \"\\n\") \n",
    "file.close()"
   ]
  },
  {
   "cell_type": "code",
   "execution_count": null,
   "metadata": {},
   "outputs": [],
   "source": [
    "files = os.listdir('./bible_jpn/wav/')\n",
    "filenames = [f.replace('.wav', '') for f in files]\n",
    "file = open(\"./bible_jpn/metadata/name2path.txt\",\"w\")\n",
    "for n in range(len(files)):\n",
    "    file.write(filenames[n] + ' ' + files[n] + \"\\n\") \n",
    "file.close()"
   ]
  },
  {
   "cell_type": "code",
   "execution_count": null,
   "metadata": {},
   "outputs": [],
   "source": [
    "files = os.listdir('./librivox_jpn/wav/')\n",
    "filenames = [f.replace('.wav', '') for f in files]\n",
    "file = open(\"./librivox_jpn/metadata/name2path.txt\",\"w\")\n",
    "for n in range(len(files)):\n",
    "    file.write(filenames[n] + ' ' + files[n] + \"\\n\") \n",
    "file.close()"
   ]
  },
  {
   "cell_type": "code",
   "execution_count": null,
   "metadata": {},
   "outputs": [],
   "source": [
    "files = os.listdir('./librivox_eng/wav/')\n",
    "filenames = [f.replace('.wav', '') for f in files]\n",
    "file = open(\"./librivox_eng/metadata/name2path.txt\",\"w\")\n",
    "for n in range(len(files)):\n",
    "    file.write(filenames[n] + ' ' + files[n] + \"\\n\") \n",
    "file.close()"
   ]
  },
  {
   "cell_type": "markdown",
   "metadata": {},
   "source": [
    "### 3. name2speaker.txt"
   ]
  },
  {
   "cell_type": "code",
   "execution_count": null,
   "metadata": {},
   "outputs": [],
   "source": [
    "files = os.listdir('./bible_eng/wav/')\n",
    "filenames = [f.replace('.wav', '') for f in files]\n",
    "file = open(\"./bible_eng/metadata/name2speaker.txt\",\"w\")\n",
    "for n in range(len(files)):\n",
    "    file.write(filenames[n] + ' ' + 'eng00M' + \"\\n\") \n",
    "file.close()"
   ]
  },
  {
   "cell_type": "code",
   "execution_count": null,
   "metadata": {},
   "outputs": [],
   "source": [
    "files = os.listdir('./bible_jpn/')\n",
    "filenames = [f.replace('.wav', '') for f in files]\n",
    "file = open(\"./metadata/name2speaker.txt\",\"w\")\n",
    "for n in range(len(files)):\n",
    "    file.write(filenames[n] + ' ' + 'jpn0' + \"\\n\") \n",
    "file.close()"
   ]
  },
  {
   "cell_type": "code",
   "execution_count": null,
   "metadata": {},
   "outputs": [],
   "source": [
    "files = os.listdir('./librivox_eng_01/')\n",
    "filenames = [f.replace('.wav', '') for f in files]\n",
    "file = open(\"name2speaker.txt\",\"w\")\n",
    "for n in range(len(files)):\n",
    "    file.write(filenames[n] + ' ' + 'eng01M' + \"\\n\") \n",
    "file.close()"
   ]
  },
  {
   "cell_type": "code",
   "execution_count": null,
   "metadata": {},
   "outputs": [],
   "source": [
    "files = os.listdir('./librivox_eng_02/')\n",
    "filenames = [f.replace('.wav', '') for f in files]\n",
    "file = open(\"name2speaker.txt\",\"a\")\n",
    "for n in range(len(files)):\n",
    "    file.write(filenames[n] + ' ' + 'eng02F' + \"\\n\") \n",
    "file.close()"
   ]
  },
  {
   "cell_type": "code",
   "execution_count": null,
   "metadata": {},
   "outputs": [],
   "source": [
    "files = os.listdir('./librivox_eng_03/')\n",
    "filenames = [f.replace('.wav', '') for f in files]\n",
    "file = open(\"name2speaker.txt\",\"a\")\n",
    "for n in range(len(files)):\n",
    "    file.write(filenames[n] + ' ' + 'eng03F' + \"\\n\") \n",
    "file.close()"
   ]
  },
  {
   "cell_type": "code",
   "execution_count": null,
   "metadata": {},
   "outputs": [],
   "source": [
    "files = os.listdir('./librivox_eng_04/')\n",
    "filenames = [f.replace('.wav', '') for f in files]\n",
    "file = open(\"name2speaker.txt\",\"a\")\n",
    "for n in range(len(files)):\n",
    "    file.write(filenames[n] + ' ' + 'eng04F' + \"\\n\") \n",
    "file.close()"
   ]
  },
  {
   "cell_type": "code",
   "execution_count": null,
   "metadata": {},
   "outputs": [],
   "source": [
    "files = os.listdir('./librivox_eng_05/')\n",
    "filenames = [f.replace('.wav', '') for f in files]\n",
    "file = open(\"name2speaker.txt\",\"a\")\n",
    "for n in range(len(files)):\n",
    "    file.write(filenames[n] + ' ' + 'eng05F' + \"\\n\") \n",
    "file.close()"
   ]
  },
  {
   "cell_type": "code",
   "execution_count": null,
   "metadata": {},
   "outputs": [],
   "source": [
    "files = os.listdir('./librivox_eng_06/')\n",
    "filenames = [f.replace('.wav', '') for f in files]\n",
    "file = open(\"name2speaker.txt\",\"a\")\n",
    "for n in range(len(files)):\n",
    "    file.write(filenames[n] + ' ' + 'eng06F' + \"\\n\") \n",
    "file.close()"
   ]
  },
  {
   "cell_type": "code",
   "execution_count": null,
   "metadata": {},
   "outputs": [],
   "source": [
    "files = os.listdir('./librivox_eng_07/')\n",
    "filenames = [f.replace('.wav', '') for f in files]\n",
    "file = open(\"name2speaker.txt\",\"a\")\n",
    "for n in range(len(files)):\n",
    "    file.write(filenames[n] + ' ' + 'eng07M' + \"\\n\") \n",
    "file.close()"
   ]
  },
  {
   "cell_type": "code",
   "execution_count": null,
   "metadata": {},
   "outputs": [],
   "source": [
    "files = os.listdir('./librivox_eng_08/')\n",
    "filenames = [f.replace('.wav', '') for f in files]\n",
    "file = open(\"name2speaker.txt\",\"a\")\n",
    "for n in range(len(files)):\n",
    "    file.write(filenames[n] + ' ' + 'eng08M' + \"\\n\") \n",
    "file.close()"
   ]
  },
  {
   "cell_type": "code",
   "execution_count": null,
   "metadata": {},
   "outputs": [],
   "source": [
    "files = os.listdir('./librivox_eng_09/')\n",
    "filenames = [f.replace('.wav', '') for f in files]\n",
    "file = open(\"name2speaker.txt\",\"a\")\n",
    "for n in range(len(files)):\n",
    "    file.write(filenames[n] + ' ' + 'eng09M' + \"\\n\") \n",
    "file.close()"
   ]
  },
  {
   "cell_type": "code",
   "execution_count": null,
   "metadata": {},
   "outputs": [],
   "source": [
    "files = os.listdir('./librivox_eng_10/')\n",
    "filenames = [f.replace('.wav', '') for f in files]\n",
    "file = open(\"name2speaker.txt\",\"a\")\n",
    "for n in range(len(files)):\n",
    "    file.write(filenames[n] + ' ' + 'eng10M' + \"\\n\") \n",
    "file.close()"
   ]
  },
  {
   "cell_type": "markdown",
   "metadata": {},
   "source": [
    "#### move librivox_eng to one folder"
   ]
  },
  {
   "cell_type": "code",
   "execution_count": null,
   "metadata": {},
   "outputs": [],
   "source": [
    "%%bash\n",
    "mkdir librivox_eng\n",
    "mkdir librivox_eng/wav\n",
    "mv librivox_eng_01/* librivox_eng/wav/\n",
    "mv librivox_eng_02/* librivox_eng/wav/\n",
    "mv librivox_eng_03/* librivox_eng/wav/\n",
    "mv librivox_eng_04/* librivox_eng/wav/\n",
    "mv librivox_eng_05/* librivox_eng/wav/\n",
    "mv librivox_eng_06/* librivox_eng/wav/\n",
    "mv librivox_eng_07/* librivox_eng/wav/\n",
    "mv librivox_eng_08/* librivox_eng/wav/\n",
    "mv librivox_eng_09/* librivox_eng/wav/\n",
    "mv librivox_eng_10/* librivox_eng/wav/\n",
    "mkdir librivox_eng/metadata\n",
    "mv name2speaker.txt librivox_eng/metadata\n",
    "rm -r librivox_eng_01\n",
    "rm -r librivox_eng_02\n",
    "rm -r librivox_eng_03\n",
    "rm -r librivox_eng_04\n",
    "rm -r librivox_eng_05\n",
    "rm -r librivox_eng_06\n",
    "rm -r librivox_eng_07\n",
    "rm -r librivox_eng_08\n",
    "rm -r librivox_eng_09\n",
    "rm -r librivox_eng_10"
   ]
  },
  {
   "cell_type": "code",
   "execution_count": null,
   "metadata": {},
   "outputs": [],
   "source": [
    "%%bash\n",
    "mkdir bible_eng/metadata"
   ]
  }
 ],
 "metadata": {
  "kernelspec": {
   "display_name": "Python 3",
   "language": "python",
   "name": "python3"
  },
  "language_info": {
   "codemirror_mode": {
    "name": "ipython",
    "version": 3
   },
   "file_extension": ".py",
   "mimetype": "text/x-python",
   "name": "python",
   "nbconvert_exporter": "python",
   "pygments_lexer": "ipython3",
   "version": "3.7.3"
  }
 },
 "nbformat": 4,
 "nbformat_minor": 2
}
