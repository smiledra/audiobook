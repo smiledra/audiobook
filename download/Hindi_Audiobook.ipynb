{
 "cells": [
  {
   "cell_type": "code",
   "execution_count": 1,
   "metadata": {},
   "outputs": [],
   "source": [
    "import wget\n",
    "from zipfile import ZipFile\n",
    "import os"
   ]
  },
  {
   "cell_type": "markdown",
   "metadata": {},
   "source": [
    "## Log\n",
    "Audiobook recordings from Internet Archive\n",
    "\n",
    "1. hin01F: Deboleena Sakalley 27:41:15.10\n",
    "2. hin02M: Neeraj Agnihotri 02:31:10.42\n",
    "3. hin03F: [Ramleela](https://archive.org/details/Ramleela_201711/subhagi.mp3_) 02:01:56.90\n",
    "4. hin04M: [S Ram Maaker](https://www.hindiaudiobook.com/the-intelligent-investor-in-hindi-audiobook/) [2](https://archive.org/details/FullBook_201905) (from hindiaudiobook.com) 11:29:20.00\n",
    "5. hin05M: [The Richest Man in Babylon](https://archive.org/details/BabylonKaSabseAmeerAadmiInHindiAudiobookChapter3/Babylon-Ka-Sabse-Ameer-Aadmi-in-Hindi-Audiobook-Chapter-1.mp3) 04:39:55.37\n",
    "6. hin06M: [Rajanikant Chandwadkar](https://archive.org/search.php?query=creator%3A%22Rajanikant+Chandwadkar+%28rasucha%40gmail.com%29%22) 10:04:49.59\n",
    "\n",
    "\n",
    "Indic TTS: \n",
    "Male\n",
    "Hindi: 5.16 hrs\n",
    "English: 7.10 hrs\n",
    "\n",
    "Female\n",
    "Hindi: 5.18 hrs\n",
    "English 7.22 hrs"
   ]
  },
  {
   "cell_type": "code",
   "execution_count": 2,
   "metadata": {},
   "outputs": [],
   "source": [
    "urls = {'hin01F':'https://archive.org/compress/Ma_ki_Batein/formats=VBR%20MP3&file=/Ma_ki_Batein.zip',\n",
    "        'hin02M':'https://archive.org/download/KufrKeLiyeHindiAudioBookFree/Kufr%20Ke%20Liye%20%28Hindi%20AudioBook%29.mp3',\n",
    "        'hin03F':'https://archive.org/compress/Ramleela_201711/formats=VBR%20MP3&file=/Ramleela_201711.zip',\n",
    "        'hin04M':'https://archive.org/compress/boltipustake007_gmail_18/formats=VBR%20MP3&file=/boltipustake007_gmail_18.zip',\n",
    "        'hin05M':'https://archive.org/compress/BabylonKaSabseAmeerAadmiInHindiAudiobookChapter3/formats=VBR%20MP3&file=/BabylonKaSabseAmeerAadmiInHindiAudiobookChapter3.zip',\n",
    "        'hin04M_2':'https://archive.org/download/FullBook_201905/Full%20Book.mp3',\n",
    "        'hin06M': 'https://archive.org/compress/AshtavakraGitaHindiAudiobook/formats=VBR%20MP3&file=/AshtavakraGitaHindiAudiobook.zip',\n",
    "        'hin06M_2':'https://archive.org/compress/AvadhutaGita-HindiAudiobook/formats=VBR%20MP3&file=/AvadhutaGita-HindiAudiobook.zip',\n",
    "        'hin06M_3':'https://archive.org/compress/ADHYAAY01TO05/formats=VBR%20MP3&file=/ADHYAAY01TO05.zip',\n",
    "        'hin06M_4':'https://archive.org/compress/ShriShivaGitaAudioBookenglish/formats=VBR%20MP3&file=/ShriShivaGitaAudioBookenglish.zip',\n",
    "        'hin06M_5':'https://archive.org/compress/VivekachudamaniHindiAudiobook/formats=VBR%20MP3&file=/VivekachudamaniHindiAudiobook.zip'\n",
    "}"
   ]
  },
  {
   "cell_type": "code",
   "execution_count": 3,
   "metadata": {},
   "outputs": [
    {
     "name": "stdout",
     "output_type": "stream",
     "text": [
      "hin01F https://archive.org/compress/Ma_ki_Batein/formats=VBR%20MP3&file=/Ma_ki_Batein.zip\n",
      "hin02M https://archive.org/download/KufrKeLiyeHindiAudioBookFree/Kufr%20Ke%20Liye%20%28Hindi%20AudioBook%29.mp3\n",
      "hin03F https://archive.org/compress/Ramleela_201711/formats=VBR%20MP3&file=/Ramleela_201711.zip\n",
      "hin04M https://archive.org/compress/boltipustake007_gmail_18/formats=VBR%20MP3&file=/boltipustake007_gmail_18.zip\n",
      "hin05M https://archive.org/compress/BabylonKaSabseAmeerAadmiInHindiAudiobookChapter3/formats=VBR%20MP3&file=/BabylonKaSabseAmeerAadmiInHindiAudiobookChapter3.zip\n",
      "hin04M_2 https://archive.org/download/FullBook_201905/Full%20Book.mp3\n",
      "hin06M https://archive.org/compress/AshtavakraGitaHindiAudiobook/formats=VBR%20MP3&file=/AshtavakraGitaHindiAudiobook.zip\n",
      "hin06M_2 https://archive.org/compress/AvadhutaGita-HindiAudiobook/formats=VBR%20MP3&file=/AvadhutaGita-HindiAudiobook.zip\n",
      "hin06M_3 https://archive.org/compress/ADHYAAY01TO05/formats=VBR%20MP3&file=/ADHYAAY01TO05.zip\n",
      "hin06M_4 https://archive.org/compress/ShriShivaGitaAudioBookenglish/formats=VBR%20MP3&file=/ShriShivaGitaAudioBookenglish.zip\n",
      "hin06M_5 https://archive.org/compress/VivekachudamaniHindiAudiobook/formats=VBR%20MP3&file=/VivekachudamaniHindiAudiobook.zip\n"
     ]
    }
   ],
   "source": [
    "for speaker in urls:\n",
    "    print(speaker, urls[speaker])\n",
    "    file = wget.download(urls[speaker])\n",
    "    \n",
    "    if file[-3:]=='mp3':\n",
    "        os.rename(file, \"./audiobook_hin/wav/\"+speaker+'_'+file)\n",
    "    else:\n",
    "        names=ZipFile(file).namelist()\n",
    "        ZipFile(file).extractall(path='./audiobook_hin/wav', members=None, pwd=None)\n",
    "        os.remove(file)\n",
    "        for name in names:\n",
    "            os.rename('./audiobook_hin/wav/'+name, './audiobook_hin/wav/'+speaker+'_'+name)\n",
    "        if speaker == 'hin03F':\n",
    "            # remove two files that are read by a male speaker\n",
    "            os.remove('./audiobook_hin/wav/hin03F_Mandir.mp3')\n",
    "            os.remove('./audiobook_hin/wav/hin03F_Ramleela.mp3')\n",
    "        if speaker == 'hin06M_2':\n",
    "            os.remove('./audiobook_hin/wav/hin06M_2_Adhyaay01.mp3')\n",
    "        if speaker == 'hin06M_3':\n",
    "            os.remove('./audiobook_hin/wav/hin06M_3_ADHYAAY 01 TO 05.mp3')\n",
    "        if speaker == 'hin06M_4':\n",
    "            os.remove('./audiobook_hin/wav/hin06M_4_Adhyaay01To04.mp3')\n",
    "        if speaker == 'hin06M_5':\n",
    "            os.remove('./audiobook_hin/wav/hin06M_5_Shlok001To103.mp3')"
   ]
  },
  {
   "cell_type": "code",
   "execution_count": 4,
   "metadata": {},
   "outputs": [
    {
     "name": "stdout",
     "output_type": "stream",
     "text": [
      "/Users/smiledra/Dropbox/Research/Summer2019/audiobook/audiobook_hin/wav\n"
     ]
    },
    {
     "name": "stderr",
     "output_type": "stream",
     "text": [
      "sox WARN rate: rate clipped 218 samples; decrease volume?\n",
      "sox WARN dither: dither clipped 190 samples; decrease volume?\n",
      "sox WARN rate: rate clipped 2406 samples; decrease volume?\n",
      "sox WARN dither: dither clipped 2104 samples; decrease volume?\n",
      "sox WARN rate: rate clipped 13174 samples; decrease volume?\n",
      "sox WARN dither: dither clipped 11544 samples; decrease volume?\n",
      "sox WARN rate: rate clipped 204 samples; decrease volume?\n",
      "sox WARN dither: dither clipped 176 samples; decrease volume?\n",
      "sox WARN rate: rate clipped 7848 samples; decrease volume?\n",
      "sox WARN dither: dither clipped 6881 samples; decrease volume?\n",
      "sox WARN rate: rate clipped 871 samples; decrease volume?\n",
      "sox WARN dither: dither clipped 760 samples; decrease volume?\n",
      "sox WARN rate: rate clipped 227 samples; decrease volume?\n",
      "sox WARN dither: dither clipped 206 samples; decrease volume?\n",
      "sox WARN rate: rate clipped 118 samples; decrease volume?\n",
      "sox WARN dither: dither clipped 104 samples; decrease volume?\n",
      "sox WARN rate: rate clipped 6 samples; decrease volume?\n",
      "sox WARN dither: dither clipped 5 samples; decrease volume?\n",
      "sox WARN rate: rate clipped 1890 samples; decrease volume?\n",
      "sox WARN dither: dither clipped 1646 samples; decrease volume?\n",
      "sox WARN rate: rate clipped 5410 samples; decrease volume?\n",
      "sox WARN dither: dither clipped 4761 samples; decrease volume?\n",
      "sox WARN rate: rate clipped 2505 samples; decrease volume?\n",
      "sox WARN dither: dither clipped 2203 samples; decrease volume?\n",
      "sox WARN rate: rate clipped 2610 samples; decrease volume?\n",
      "sox WARN dither: dither clipped 2429 samples; decrease volume?\n",
      "sox WARN rate: rate clipped 3978 samples; decrease volume?\n",
      "sox WARN dither: dither clipped 4092 samples; decrease volume?\n",
      "sox WARN rate: rate clipped 989 samples; decrease volume?\n",
      "sox WARN dither: dither clipped 878 samples; decrease volume?\n",
      "sox WARN rate: rate clipped 341 samples; decrease volume?\n",
      "sox WARN dither: dither clipped 293 samples; decrease volume?\n",
      "sox WARN rate: rate clipped 552 samples; decrease volume?\n",
      "sox WARN dither: dither clipped 481 samples; decrease volume?\n",
      "sox WARN rate: rate clipped 2383 samples; decrease volume?\n",
      "sox WARN dither: dither clipped 2101 samples; decrease volume?\n",
      "sox WARN rate: rate clipped 467 samples; decrease volume?\n",
      "sox WARN dither: dither clipped 396 samples; decrease volume?\n",
      "sox WARN rate: rate clipped 373 samples; decrease volume?\n",
      "sox WARN dither: dither clipped 333 samples; decrease volume?\n",
      "sox WARN rate: rate clipped 184 samples; decrease volume?\n",
      "sox WARN dither: dither clipped 162 samples; decrease volume?\n",
      "sox WARN rate: rate clipped 173 samples; decrease volume?\n",
      "sox WARN dither: dither clipped 153 samples; decrease volume?\n",
      "sox WARN rate: rate clipped 1797 samples; decrease volume?\n",
      "sox WARN dither: dither clipped 1544 samples; decrease volume?\n",
      "sox WARN rate: rate clipped 25 samples; decrease volume?\n",
      "sox WARN dither: dither clipped 23 samples; decrease volume?\n",
      "sox WARN rate: rate clipped 22 samples; decrease volume?\n",
      "sox WARN dither: dither clipped 19 samples; decrease volume?\n",
      "sox WARN rate: rate clipped 20 samples; decrease volume?\n",
      "sox WARN dither: dither clipped 20 samples; decrease volume?\n",
      "sox WARN rate: rate clipped 27 samples; decrease volume?\n",
      "sox WARN dither: dither clipped 22 samples; decrease volume?\n",
      "sox WARN rate: rate clipped 12 samples; decrease volume?\n",
      "sox WARN dither: dither clipped 12 samples; decrease volume?\n",
      "sox WARN rate: rate clipped 14 samples; decrease volume?\n",
      "sox WARN dither: dither clipped 14 samples; decrease volume?\n",
      "sox WARN rate: rate clipped 2 samples; decrease volume?\n",
      "sox WARN dither: dither clipped 2 samples; decrease volume?\n",
      "sox WARN rate: rate clipped 1 samples; decrease volume?\n",
      "sox WARN dither: dither clipped 1 samples; decrease volume?\n",
      "sox WARN rate: rate clipped 16 samples; decrease volume?\n",
      "sox WARN dither: dither clipped 16 samples; decrease volume?\n",
      "sox WARN rate: rate clipped 34 samples; decrease volume?\n",
      "sox WARN dither: dither clipped 32 samples; decrease volume?\n"
     ]
    }
   ],
   "source": [
    "%%bash\n",
    "cd audiobook_hin/wav/\n",
    "pwd\n",
    "for f in *.mp3; do sox -t mp3 \"$f\" -b 16 -r 16000 -t wav \"${f%.*}.wav\"; done\n",
    "rm *.mp3\n",
    "mkdir mono\n",
    "for f in *.wav; do sox \"$f\" \"mono/$f\" channels 1; done\n",
    "mv mono/* ./"
   ]
  },
  {
   "cell_type": "code",
   "execution_count": 23,
   "metadata": {},
   "outputs": [],
   "source": [
    "fs = os.listdir('./audiobook_hin/wav/')\n",
    "for f in fs:\n",
    "    os.rename('./audiobook_hin/wav/'+f, './audiobook_hin/wav/'+f.replace(\" \", \"-\"))\n",
    "\n",
    "fs = os.listdir('./audiobook_hin/wav/')\n",
    "for f in fs:\n",
    "    os.rename('./audiobook_hin/wav/'+f, './audiobook_hin/wav/'+f.replace(\"%\", \"--\"))"
   ]
  },
  {
   "cell_type": "code",
   "execution_count": 25,
   "metadata": {},
   "outputs": [],
   "source": [
    "# create name2path.txt\n",
    "os.mkdir('./audiobook_hin/metadata/')\n",
    "\n",
    "files = os.listdir('./audiobook_hin/wav/')\n",
    "filenames = [f.replace('.wav', '') for f in files]\n",
    "file = open(\"./audiobook_hin/metadata/name2path.txt\",\"w\")\n",
    "for n in range(len(files)):\n",
    "    file.write(filenames[n] + ' ' + files[n] + \"\\n\") \n",
    "file.close()"
   ]
  },
  {
   "cell_type": "code",
   "execution_count": 26,
   "metadata": {},
   "outputs": [
    {
     "data": {
      "text/plain": [
       "array(['hin'], dtype='<U3')"
      ]
     },
     "execution_count": 26,
     "metadata": {},
     "output_type": "execute_result"
    }
   ],
   "source": [
    "# check that all files are wav files and the speaker string is indexed correctly\n",
    "import numpy as np\n",
    "\n",
    "files = os.listdir('./audiobook_hin/wav/')\n",
    "filenames = [f.replace('.wav', '') for f in files]\n",
    "speaker = [f[0:6] for f in filenames]\n",
    "assert len(filenames) == len(speaker)\n",
    "np.unique([str[0:3] for str in speaker])\n",
    "#filenames"
   ]
  },
  {
   "cell_type": "code",
   "execution_count": 28,
   "metadata": {},
   "outputs": [],
   "source": [
    "# create name2speaker.txt\n",
    "\n",
    "speaker = [f[0:6] for f in filenames]\n",
    "file = open(\"./audiobook_hin/metadata/name2speaker.txt\",\"w\")\n",
    "for n in range(len(files)):\n",
    "    file.write(filenames[n] + ' ' + speaker[n] + \"\\n\")\n",
    "file.close()"
   ]
  },
  {
   "cell_type": "markdown",
   "metadata": {},
   "source": [
    "## Indic TTS processing and metadata generation"
   ]
  },
  {
   "cell_type": "code",
   "execution_count": 74,
   "metadata": {},
   "outputs": [],
   "source": [
    "files = os.listdir('./male/mono/wav')\n",
    "for f in files:\n",
    "    os.rename('./male/mono/wav/' + f, './male/mono/wav/tts_hin_hin07M_' + f)\n",
    "\n",
    "files = os.listdir('./female/mono/wav')\n",
    "for f in files:\n",
    "    os.rename('./female/mono/wav/' + f, './female/mono/wav/tts_hin_hin08F_' + f)"
   ]
  },
  {
   "cell_type": "code",
   "execution_count": 75,
   "metadata": {},
   "outputs": [],
   "source": [
    "%%bash\n",
    "mkdir -p ./tts_hin\n",
    "mkdir -p ./tts_hin/wav\n",
    "mkdir -p ./tts_hin/metadata"
   ]
  },
  {
   "cell_type": "code",
   "execution_count": 77,
   "metadata": {},
   "outputs": [
    {
     "name": "stderr",
     "output_type": "stream",
     "text": [
      "sox WARN rate: rate clipped 1 samples; decrease volume?\n",
      "sox WARN dither: dither clipped 1 samples; decrease volume?\n"
     ]
    }
   ],
   "source": [
    "%%bash\n",
    "cd ./male/mono/wav/\n",
    "for f in *.wav; do sox \"$f\" -b 16 -r 16000 -t wav \"../../../tts_hin/wav/$f\"; done"
   ]
  },
  {
   "cell_type": "code",
   "execution_count": 78,
   "metadata": {},
   "outputs": [],
   "source": [
    "%%bash\n",
    "cd ./female/mono/wav/\n",
    "for f in *.wav; do sox \"$f\" -b 16 -r 16000 -t wav \"../../../tts_hin/wav/$f\"; done"
   ]
  },
  {
   "cell_type": "code",
   "execution_count": 80,
   "metadata": {},
   "outputs": [],
   "source": [
    "# create name2path.txt\n",
    "\n",
    "files = os.listdir('./tts_hin/wav/')\n",
    "filenames = [f.replace('.wav', '') for f in files]\n",
    "file = open(\"./tts_hin/metadata/name2path.txt\",\"w\")\n",
    "for n in range(len(files)):\n",
    "    file.write(filenames[n] + ' ' + files[n] + \"\\n\") \n",
    "file.close()"
   ]
  },
  {
   "cell_type": "code",
   "execution_count": 15,
   "metadata": {},
   "outputs": [
    {
     "data": {
      "text/plain": [
       "array(['hin'], dtype='<U3')"
      ]
     },
     "execution_count": 15,
     "metadata": {},
     "output_type": "execute_result"
    }
   ],
   "source": [
    "# check that all files are wav files and the speaker string is indexed correctly\n",
    "\n",
    "files = os.listdir('./tts_hin/wav/')\n",
    "filenames = [f.replace('.wav', '') for f in files]\n",
    "speaker = [f[8:14] for f in filenames]\n",
    "assert len(filenames) == len(speaker)\n",
    "np.unique([str[0:3] for str in speaker])"
   ]
  },
  {
   "cell_type": "code",
   "execution_count": null,
   "metadata": {},
   "outputs": [],
   "source": [
    "# create name2speaker.txt\n",
    "\n",
    "speaker = [f[8:14] for f in filenames]\n",
    "file = open(\"./tts_hin/metadata/name2speaker.txt\",\"w\")\n",
    "for n in range(len(files)):\n",
    "    file.write(filenames[n] + ' ' + speaker[n] + \"\\n\")\n",
    "file.close()"
   ]
  }
 ],
 "metadata": {
  "kernelspec": {
   "display_name": "Python 3",
   "language": "python",
   "name": "python3"
  },
  "language_info": {
   "codemirror_mode": {
    "name": "ipython",
    "version": 3
   },
   "file_extension": ".py",
   "mimetype": "text/x-python",
   "name": "python",
   "nbconvert_exporter": "python",
   "pygments_lexer": "ipython3",
   "version": "3.7.3"
  }
 },
 "nbformat": 4,
 "nbformat_minor": 2
}
