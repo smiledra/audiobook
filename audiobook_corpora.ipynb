{
 "cells": [
  {
   "cell_type": "code",
   "execution_count": null,
   "metadata": {},
   "outputs": [],
   "source": [
    "import wget\n",
    "from zipfile import ZipFile\n",
    "import os"
   ]
  },
  {
   "cell_type": "markdown",
   "metadata": {},
   "source": [
    "# Code for Downloading & Formatting\n",
    "\n",
    "## Librivox JPN"
   ]
  },
  {
   "cell_type": "code",
   "execution_count": null,
   "metadata": {},
   "outputs": [],
   "source": [
    "%%bash\n",
    "mkdir ./librivox_jpn\n",
    "mkdir ./librivox_jpn/metadata\n",
    "mkdir ./librivox_jpn/wav"
   ]
  },
  {
   "cell_type": "code",
   "execution_count": null,
   "metadata": {},
   "outputs": [],
   "source": [
    "urls = ['http://www.archive.org/download//inakakyoshi_1311_librivox/inakakyoshi_1311_librivox_64kb_mp3.zip',\n",
    "        'http://www.archive.org/download/nowaki_um_librivox/nowaki_um_librivox_64kb_mp3.zip',\n",
    "        'http://www.archive.org/download//gan_1311_librivox/gan_1311_librivox_64kb_mp3.zip',\n",
    "        'http://www.archive.org/download/futon_ek_1303_librivox/futon_ek_1303_librivox_64kb_mp3.zip',\n",
    "        'http://www.archive.org/download/kazetachinu_ek_librivox/kazetachinu_ek_librivox_64kb_mp3.zip',\n",
    "        'http://www.archive.org/download/kouyahijiri_1303_librivox/kouyahijiri_1303_librivox_64kb_mp3.zip',\n",
    "        'http://www.archive.org/download//meian_1403_librivox/meian_1403_librivox_64kb_mp3.zip', \n",
    "        'http://www.archive.org/download//kokoro_natsume_um_librivox/kokoro_natsume_um_librivox_64kb_mp3.zip',\n",
    "        'http://www.archive.org/download//kusamakura_1311_librivox/kusamakura_1311_librivox_64kb_mp3.zip',\n",
    "        'http://www.archive.org/download//botchan_1310_librivox/botchan_1310_librivox_64kb_mp3.zip',\n",
    "        'http://www.archive.org/download/eijitsu_syohin_um_librivox/eijitsu_syohin_um_librivox_64kb_mp3.zip']"
   ]
  },
  {
   "cell_type": "code",
   "execution_count": null,
   "metadata": {},
   "outputs": [],
   "source": [
    "for url in urls:\n",
    "    file = wget.download(url)\n",
    "    ZipFile(file).extractall(path='./librivox_jpn/wav', members=None, pwd=None)\n",
    "    os.remove(file)\n",
    "\n",
    "# Rename the files to prevent duplicates\n",
    "files = os.listdir('./librivox_jpn/wav')\n",
    "for f in files:\n",
    "    os.rename('./librivox_jpn/wav/' + f, './librivox_jpn/wav/librivox_jpn_' + f)"
   ]
  },
  {
   "cell_type": "code",
   "execution_count": null,
   "metadata": {},
   "outputs": [],
   "source": [
    "%%bash\n",
    "cd librivox_jpn/\n",
    "for f in *.mp3; do sox -t mp3 \"$f\" -b 16 -r 16000 -t wav \"${f%.*}.wav\"; done\n",
    "rm *.mp3\n",
    "sox --i *"
   ]
  },
  {
   "cell_type": "markdown",
   "metadata": {},
   "source": [
    "## Librivox ENG"
   ]
  },
  {
   "cell_type": "code",
   "execution_count": null,
   "metadata": {},
   "outputs": [],
   "source": [
    "%%bash\n",
    "mkdir ./librivox_eng\n",
    "mkdir ./librivox_eng/metadata\n",
    "mkdir ./librivox_eng/wav"
   ]
  },
  {
   "cell_type": "code",
   "execution_count": null,
   "metadata": {},
   "outputs": [],
   "source": [
    "urls = ['http://www.archive.org/download//the_adventures_of_sherlock_holmes_v5_1904_librivox/the_adventures_of_sherlock_holmes_v5_1904_librivox_64kb_mp3.zip',\n",
    "        'http://www.archive.org/download//alicesadventuresinwonderland_1902_librivox/alicesadventuresinwonderland_1902_librivox_64kb_mp3.zip']"
   ]
  },
  {
   "cell_type": "code",
   "execution_count": null,
   "metadata": {},
   "outputs": [],
   "source": [
    "for url in urls:\n",
    "    file = wget.download(url)\n",
    "    ZipFile(file).extractall(path='./librivox_eng_01/', members=None, pwd=None)\n",
    "    os.remove(file)\n",
    "\n",
    "files = os.listdir('./librivox_eng_01/')\n",
    "filenames = [f.replace('.wav', '') for f in files]\n",
    "file = open(\"./librivox_eng/metadata/name2speaker.txt\",\"w\")\n",
    "for n in range(len(files)):\n",
    "    file.write('librivox_eng_01_' + filenames[n] + ' ' + 'eng01M' + \"\\n\") \n",
    "file.close()\n",
    "\n",
    "# Rename the files to prevent duplicates\n",
    "files = os.listdir('./librivox_eng_01/')\n",
    "for f in files:\n",
    "    os.rename('./librivox_eng_01/' + f, './librivox_eng/wav/librivox_eng_01_' + f)\n",
    "\n",
    "os.rmdir('./librivox_eng_01/')"
   ]
  },
  {
   "cell_type": "code",
   "execution_count": null,
   "metadata": {},
   "outputs": [],
   "source": [
    "urls = ['http://www.archive.org/download//mrssolomonsmith_lookingon_1903_librivox/mrssolomonsmith_lookingon_1903_librivox_64kb_mp3.zip',\n",
    "        'http://www.archive.org/download//redrivercolony_1312_librivox/redrivercolony_1312_librivox_64kb_mp3.zip',\n",
    "        'http://www.archive.org/download/adventurersofthefarnorth_tg_librivox/adventurersofthefarnorth_tg_librivox_64kb_mp3.zip',\n",
    "        'http://www.archive.org/download/adventurersofthefarnorth_tg_librivox/adventurersofthefarnorth_tg_librivox_64kb_mp3.zip',\n",
    "        'http://www.archive.org/download/adventurersofthefarnorth_tg_librivox/adventurersofthefarnorth_tg_librivox_64kb_mp3.zip',\n",
    "        'http://www.archive.org/download//brewstersmillions_1506_librivox/brewstersmillions_1506_librivox_64kb_mp3.zip',\n",
    "        'http://www.archive.org/download/minor_prophets_tg_librivox/minor_prophets_tg_librivox_64kb_mp3.zip',\n",
    "        'http://www.archive.org/download//yesterdayframedintoday_1504_librivox/yesterdayframedintoday_1504_librivox_64kb_mp3.zip',\n",
    "        'http://www.archive.org/download/workers_together_tg_librivox/workers_together_tg_librivox_64kb_mp3.zip',\n",
    "        'http://www.archive.org/download/wise_otherwise_0903_librivox/wise_otherwise_0903_librivox_64kb_mp3.zip',\n",
    "        'http://www.archive.org/download//twentyminuteslate_1804_librivox/twentyminuteslate_1804_librivox_64kb_mp3.zip',\n",
    "        'http://www.archive.org/download//wanted_1902_librivox/wanted_1902_librivox_64kb_mp3.zip',\n",
    "        'http://www.archive.org/download/tiplewis_tg_librivox/tiplewis_tg_librivox_64kb_mp3.zip',\n",
    "        'http://www.archive.org/download//shorthistory_christianchurch_1709_librivox/shorthistory_christianchurch_1709_librivox_64kb_mp3.zip']"
   ]
  },
  {
   "cell_type": "code",
   "execution_count": null,
   "metadata": {},
   "outputs": [],
   "source": [
    "for url in urls:\n",
    "    file = wget.download(url)\n",
    "    ZipFile(file).extractall(path='./librivox_eng_02/', members=None, pwd=None)\n",
    "    os.remove(file)\n",
    "\n",
    "files = os.listdir('./librivox_eng_02/')\n",
    "filenames = [f.replace('.wav', '') for f in files]\n",
    "file = open(\"./librivox_eng/metadata/name2speaker.txt\",\"a\")\n",
    "for n in range(len(files)):\n",
    "    file.write('librivox_eng_02_' + filenames[n] + ' ' + 'eng02F' + \"\\n\") \n",
    "file.close()\n",
    "\n",
    "# Rename the files to prevent duplicates\n",
    "files = os.listdir('./librivox_eng_02/')\n",
    "for f in files:\n",
    "    os.rename('./librivox_eng_02/' + f, './librivox_eng/wav/librivox_eng_02_' + f)\n",
    "\n",
    "os.rmdir('./librivox_eng_02/')"
   ]
  },
  {
   "cell_type": "code",
   "execution_count": null,
   "metadata": {},
   "outputs": [],
   "source": [
    "urls = ['http://www.archive.org/download//thatunfortunatemarriage_1904_librivox/thatunfortunatemarriage_1904_librivox_64kb_mp3.zip',\n",
    "        'http://www.archive.org/download/vicarbullhampton_1107_librivox/vicarbullhampton_1107_librivox_64kb_mp3.zip',\n",
    "        'http://www.archive.org/download/vicar_wrexhill_1211_librivox/vicar_wrexhill_1211_librivox_64kb_mp3.zip',\n",
    "        'http://www.archive.org/download/prairie_traveler_ar_librivox/prairie_traveler_ar_librivox_64kb_mp3.zip',\n",
    "        'http://www.archive.org/download//landleaguers_1607_librivox/landleaguers_1607_librivox_64kb_mp3.zip', \n",
    "        'http://www.archive.org/download/dr_wortle_school_ar_librivox/dr_wortle_school_ar_librivox_64kb_mp3.zip',\n",
    "        'http://www.archive.org/download//charming_fellow_1404_librivox/charming_fellow_1404_librivox_64kb_mp3.zip']"
   ]
  },
  {
   "cell_type": "code",
   "execution_count": null,
   "metadata": {},
   "outputs": [],
   "source": [
    "for url in urls:\n",
    "    file = wget.download(url)\n",
    "    ZipFile(file).extractall(path='./librivox_eng_03/', members=None, pwd=None)\n",
    "    os.remove(file)\n",
    "\n",
    "files = os.listdir('./librivox_eng_03/')\n",
    "filenames = [f.replace('.wav', '') for f in files]\n",
    "file = open(\"./librivox_eng/metadata/name2speaker.txt\",\"a\")\n",
    "for n in range(len(files)):\n",
    "    file.write('librivox_eng_03_' + filenames[n] + ' ' + 'eng03F' + \"\\n\") \n",
    "file.close()\n",
    "\n",
    "# Rename the files to prevent duplicates\n",
    "files = os.listdir('./librivox_eng_03/')\n",
    "for f in files:\n",
    "    os.rename('./librivox_eng_03/' + f, './librivox_eng/wav/librivox_eng_03_' + f)\n",
    "\n",
    "os.rmdir('./librivox_eng_03/')"
   ]
  },
  {
   "cell_type": "code",
   "execution_count": null,
   "metadata": {},
   "outputs": [],
   "source": [
    "urls = ['http://www.archive.org/download//lifes_experience_in_mormonism_1905_librivox/lifes_experience_in_mormonism_1905_librivox_64kb_mp3.zip']"
   ]
  },
  {
   "cell_type": "code",
   "execution_count": null,
   "metadata": {},
   "outputs": [],
   "source": [
    "for url in urls:\n",
    "    file = wget.download(url)\n",
    "    ZipFile(file).extractall(path='./librivox_eng_04/', members=None, pwd=None)\n",
    "    os.remove(file)\n",
    "\n",
    "files = os.listdir('./librivox_eng_04/')\n",
    "filenames = [f.replace('.wav', '') for f in files]\n",
    "file = open(\"./librivox_eng/metadata/name2speaker.txt\",\"a\")\n",
    "for n in range(len(files)):\n",
    "    file.write('librivox_eng_04_' + filenames[n] + ' ' + 'eng04F' + \"\\n\") \n",
    "file.close()\n",
    "\n",
    "# Rename the files to prevent duplicates\n",
    "files = os.listdir('./librivox_eng_04/')\n",
    "for f in files:\n",
    "    os.rename('./librivox_eng_04/' + f, './librivox_eng/wav/librivox_eng_04_' + f)\n",
    "\n",
    "os.rmdir('./librivox_eng_04/')"
   ]
  },
  {
   "cell_type": "code",
   "execution_count": null,
   "metadata": {},
   "outputs": [],
   "source": [
    "urls = ['http://www.archive.org/download//city_of_endless_night_1904_librivox/city_of_endless_night_1904_librivox_64kb_mp3.zip',\n",
    "        'http://www.archive.org/download//farcountry_1805_librivox/farcountry_1805_librivox_64kb_mp3.zip',\n",
    "        'http://www.archive.org/download//the_ghost_girl_1804_librivox/the_ghost_girl_1804_librivox_64kb_mp3.zip',\n",
    "        'http://www.archive.org/download//prodigaldaughters_1711_librivox/prodigaldaughters_1711_librivox_64kb_mp3.zip',\n",
    "        'http://www.archive.org/download//the_whispering_man_1811_librivox/the_whispering_man_1811_librivox_64kb_mp3.zip']"
   ]
  },
  {
   "cell_type": "code",
   "execution_count": null,
   "metadata": {},
   "outputs": [],
   "source": [
    "for url in urls:\n",
    "    file = wget.download(url)\n",
    "    ZipFile(file).extractall(path='./librivox_eng_05/', members=None, pwd=None)\n",
    "    os.remove(file)\n",
    "\n",
    "files = os.listdir('./librivox_eng_05/')\n",
    "filenames = [f.replace('.wav', '') for f in files]\n",
    "file = open(\"./librivox_eng/metadata/name2speaker.txt\",\"a\")\n",
    "for n in range(len(files)):\n",
    "    file.write('librivox_eng_05_' + filenames[n] + ' ' + 'eng05F' + \"\\n\") \n",
    "file.close()\n",
    "\n",
    "# Rename the files to prevent duplicates\n",
    "files = os.listdir('./librivox_eng_05/')\n",
    "for f in files:\n",
    "    os.rename('./librivox_eng_05/' + f, './librivox_eng/wav/librivox_eng_05_' + f)\n",
    "\n",
    "os.rmdir('./librivox_eng_05/')"
   ]
  },
  {
   "cell_type": "code",
   "execution_count": null,
   "metadata": {},
   "outputs": [],
   "source": [
    "urls = ['http://www.archive.org/download//bismarck_1608_librivox/bismarck_1608_librivox_64kb_mp3.zip',\n",
    "        'http://www.archive.org/download//captain_cook_1809_librivox/captain_cook_1809_librivox_64kb_mp3.zip',\n",
    "        'http://www.archive.org/download//emilybronte_1705_librivox/emilybronte_1705_librivox_64kb_mp3.zip',\n",
    "        'http://www.archive.org/download//seven_statesmen_later_republic_pn_1808_librivox/seven_statesmen_later_republic_pn_1808_librivox_64kb_mp3.zip',\n",
    "        'http://www.archive.org/download//story_gladstones_life_pn_1612_librivox/story_gladstones_life_pn_1612_librivox_64kb_mp3.zip',\n",
    "        'http://www.archive.org/download//cardinal_de_richelieu_pn_1605_librivox/cardinal_de_richelieu_pn_1605_librivox_64kb_mp3.zip',\n",
    "        'http://www.archive.org/download//cardinalwolsey_1607_librivox/cardinalwolsey_1607_librivox_64kb_mp3.zip',\n",
    "        'http://www.archive.org/download//the_central_period_of_the_middle_age_1804_librivox/the_central_period_of_the_middle_age_1804_librivox_64kb_mp3.zip',\n",
    "        'http://www.archive.org/download//dawnmediaevaleurope_1803_librivox/dawnmediaevaleurope_1803_librivox_64kb_mp3.zip',\n",
    "        'http://www.archive.org/download//edwardthefirst_1611_librivox/edwardthefirst_1611_librivox_64kb_mp3.zip',\n",
    "        'http://www.archive.org/download/endofthemiddleage_1712_librivox/endofthemiddleage_1712_librivox_64kb_mp3.zip',\n",
    "        'http://www.archive.org/download//england_1707_librivox/england_1707_librivox_64kb_mp3.zip',\n",
    "        'http://www.archive.org/download//england_since_waterloo_1706_librivox/england_since_waterloo_1706_librivox_64kb_mp3.zip',\n",
    "        'http://www.archive.org/download//englishrestoration_louisxiv_1808_librivox/englishrestoration_louisxiv_1808_librivox_64kb_mp3.zip',\n",
    "        'http://www.archive.org/download//half_a_century_1806_librivox/half_a_century_1806_librivox_64kb_mp3.zip',\n",
    "        'http://www.archive.org/download//hildebrand_pn_1811_librivox/hildebrand_pn_1811_librivox_64kb_mp3.zip',\n",
    "        'http://www.archive.org/download//historyofourowntimes_1903_librivox/historyofourowntimes_1903_librivox_64kb_mp3.zip',\n",
    "        'http://www.archive.org/download//history_of_the_four_georges_in_four_volumes_volume_1_15_librivox/history_of_the_four_georges_in_four_volumes_volume_1_15_librivox_64kb_mp3.zip',\n",
    "        'http://www.archive.org/download//history_of_the_four_georges_2_1511_librivox/history_of_the_four_georges_2_1511_librivox_64kb_mp3.zip',\n",
    "        'http://www.archive.org/download//history_of_the_four_georges_3_1602_librivox/history_of_the_four_georges_3_1602_librivox_64kb_mp3.zip',\n",
    "        'http://www.archive.org/download//history_of_the_four_georges_3_1602_librivox/history_of_the_four_georges_3_1602_librivox_64kb_mp3.zip',\n",
    "        'http://www.archive.org/download//four_georges_4_1602_librivox/four_georges_4_1602_librivox_64kb_mp3.zip',\n",
    "        'http://www.archive.org/download//kingandparliament_1708_librivox/kingandparliament_1708_librivox_64kb_mp3.zip',\n",
    "        'http://www.archive.org/download//lectures_tropicaldiseases_1511_librivox/lectures_tropicaldiseases_1511_librivox_64kb_mp3.zip',\n",
    "        'http://www.archive.org/download//lifeofcharlemagne_1606_librivox/lifeofcharlemagne_1606_librivox_64kb_mp3.zip',\n",
    "        'http://www.archive.org/download//life_of_prince_metternich_1611_librivox/life_of_prince_metternich_1611_librivox_64kb_mp3.zip',\n",
    "        'http://www.archive.org/download//viscountpalmerston_1701_librivox/viscountpalmerston_1701_librivox_64kb_mp3.zip',\n",
    "        'http://www.archive.org/download//margaretofangouleme_1705_librivox/margaretofangouleme_1705_librivox_64kb_mp3.zip',\n",
    "        'http://www.archive.org/download//pitt_1605_librivox/pitt_1605_librivox_64kb_mp3.zip',\n",
    "        'http://www.archive.org/download//queen_elizabeth_1608_librivox/queen_elizabeth_1608_librivox_64kb_mp3.zip',\n",
    "        'http://www.archive.org/download//reign_queen_anne_1_pn_1610_librivox/reign_queen_anne_1_pn_1610_librivox_64kb_mp3.zip',\n",
    "        'http://www.archive.org/download//reign_queen_anne_volume_2_pn_1701_librivox/reign_queen_anne_volume_2_pn_1701_librivox_64kb_mp3.zip',\n",
    "        'http://www.archive.org/download//seven_statesmen_later_republic_pn_1808_librivox/seven_statesmen_later_republic_pn_1808_librivox_64kb_mp3.zip',\n",
    "        'http://www.archive.org/download//story_gladstones_life_pn_1612_librivox/story_gladstones_life_pn_1612_librivox_64kb_mp3.zip',\n",
    "        'http://www.archive.org/download//walpole_1508_librivox/walpole_1508_librivox_64kb_mp3.zip']"
   ]
  },
  {
   "cell_type": "code",
   "execution_count": null,
   "metadata": {},
   "outputs": [],
   "source": [
    "for url in urls:\n",
    "    file = wget.download(url)\n",
    "    ZipFile(file).extractall(path='./librivox_eng_06/', members=None, pwd=None)\n",
    "    os.remove(file)\n",
    "\n",
    "files = os.listdir('./librivox_eng_06/')\n",
    "filenames = [f.replace('.wav', '') for f in files]\n",
    "file = open(\"./librivox_eng/metadata/name2speaker.txt\",\"a\")\n",
    "for n in range(len(files)):\n",
    "    file.write('librivox_eng_06_' + filenames[n] + ' ' + 'eng06F' + \"\\n\") \n",
    "file.close()\n",
    "\n",
    "# Rename the files to prevent duplicates\n",
    "files = os.listdir('./librivox_eng_06/')\n",
    "for f in files:\n",
    "    os.rename('./librivox_eng_06/' + f, './librivox_eng/wav/librivox_eng_06_' + f)\n",
    "\n",
    "os.rmdir('./librivox_eng_06/')"
   ]
  },
  {
   "cell_type": "code",
   "execution_count": null,
   "metadata": {},
   "outputs": [],
   "source": [
    "urls = ['http://www.archive.org/download//stfrancisofassisi_1903_librivox/stfrancisofassisi_1903_librivox_64kb_mp3.zip',\n",
    "        'http://www.archive.org/download//bishops_secret_1309_librivox/bishops_secret_1309_librivox_64kb_mp3.zip',\n",
    "        'http://www.archive.org/download//thebet_1708_librivox/thebet_1708_librivox_64kb_mp3.zip',\n",
    "        'http://www.archive.org/download//the_borough_1409_librivox/the_borough_1409_librivox_64kb_mp3.zip',\n",
    "        'http://www.archive.org/download//thrilling_adventures_by_land_and_sea_1905_librivox/thrilling_adventures_by_land_and_sea_1905_librivox_64kb_mp3.zip',\n",
    "        'http://www.archive.org/download//tales_of_english_minsters_1904_librivox/tales_of_english_minsters_1904_librivox_64kb_mp3.zip',\n",
    "        'http://www.archive.org/download//the_joyous_adventures_of_aristide_pujol_1903_librivox/the_joyous_adventures_of_aristide_pujol_1903_librivox_64kb_mp3.zip',\n",
    "        'http://www.archive.org/download//williamagain_1902_librivox/williamagain_1902_librivox_64kb_mp3.zip',\n",
    "        'http://www.archive.org/download//a_mirror_of_shalott_1901_librivox/a_mirror_of_shalott_1901_librivox_64kb_mp3.zip',\n",
    "        'http://www.archive.org/download//the_characters_of_theophrastus_1901_librivox/the_characters_of_theophrastus_1901_librivox_64kb_mp3.zip',\n",
    "        'http://www.archive.org/download//use_of_the_dead_to_the_living_1901_librivox/use_of_the_dead_to_the_living_1901_librivox_64kb_mp3.zip',\n",
    "        'http://www.archive.org/download//short_stories_of_william_henry_harrison_murray_1903_librivox/short_stories_of_william_henry_harrison_murray_1903_librivox_64kb_mp3.zip',\n",
    "        'http://www.archive.org/download//one_hundred_years_in_yosemite_1812_librivox/one_hundred_years_in_yosemite_1812_librivox_64kb_mp3.zip',\n",
    "        'http://www.archive.org/download//the_light_invisible_1812_librivox/the_light_invisible_1812_librivox_64kb_mp3.zip',\n",
    "        'http://www.archive.org/download//the_human_boy_and_the_war_1811_librivox/the_human_boy_and_the_war_1811_librivox_64kb_mp3.zip',\n",
    "        'http://www.archive.org/download//the_dogs_of_boytown_1809_librivox/the_dogs_of_boytown_1809_librivox_64kb_mp3.zip',\n",
    "        'http://www.archive.org/download//loafing_along_death_valley_trails_1808_librivox/loafing_along_death_valley_trails_1808_librivox_64kb_mp3.zip',\n",
    "        'http://www.archive.org/download//loafing_along_death_valley_trails_1808_librivox/loafing_along_death_valley_trails_1808_librivox_64kb_mp3.zip',\n",
    "        'http://www.archive.org/download//loafing_along_death_valley_trails_1808_librivox/loafing_along_death_valley_trails_1808_librivox_64kb_mp3.zip',\n",
    "        'http://www.archive.org/download//the_human_boy_again_1807_librivox/the_human_boy_again_1807_librivox_64kb_mp3.zip',\n",
    "        'http://www.archive.org/download//gulliver_the_great_1805_librivox/gulliver_the_great_1805_librivox_64kb_mp3.zip',\n",
    "        'http://www.archive.org/download//lanagan_amateur_detective_1804_librivox/lanagan_amateur_detective_1804_librivox_64kb_mp3.zip',\n",
    "        'http://www.archive.org/download//the_last_three_soldiers_1803_librivox/the_last_three_soldiers_1803_librivox_64kb_mp3.zip',\n",
    "        'http://www.archive.org/download//narrative_of_the_operations_and_recent_discoveries_with_librivox/narrative_of_the_operations_and_recent_discoveries_with_librivox_64kb_mp3.zip',\n",
    "        'http://www.archive.org/download//jim_the_story_of_a_backwoods_police_dog_and_other_stori_librivox/jim_the_story_of_a_backwoods_police_dog_and_other_stori_librivox_64kb_mp3.zip',\n",
    "        'http://www.archive.org/download//the_crimson_gardenia_and_other_tales_of_adventure_1801_librivox/the_crimson_gardenia_and_other_tales_of_adventure_1801_librivox_64kb_mp3.zip',\n",
    "        'http://www.archive.org/download//the_private_soldier_under_washington_1801_librivox/the_private_soldier_under_washington_1801_librivox_64kb_mp3.zip',\n",
    "        'http://www.archive.org/download//campaigning_with_grant_1712_librivox/campaigning_with_grant_1712_librivox_64kb_mp3.zip',\n",
    "        'http://www.archive.org/download//recollectionsandletters_1710_librivox/recollectionsandletters_1710_librivox_64kb_mp3.zip',\n",
    "        'http://www.archive.org/download//lecturesonpainting_1709_librivox/lecturesonpainting_1709_librivox_64kb_mp3.zip',\n",
    "        'http://www.archive.org/download//longlongtrail_1708_librivox/longlongtrail_1708_librivox_64kb_mp3.zip',\n",
    "        'http://www.archive.org/download//christmasmiscellany2017_1707_librivox/christmasmiscellany2017_1707_librivox_64kb_mp3.zip',\n",
    "        'http://www.archive.org/download//romance_of_california_dw_1707_librivox/romance_of_california_dw_1707_librivox_64kb_mp3.zip',\n",
    "        'http://www.archive.org/download//roundthefire_1703_librivox/roundthefire_1703_librivox_64kb_mp3.zip',\n",
    "        'http://www.archive.org/download//talesric_1704_librivox/talesric_1704_librivox_64kb_mp3.zip',\n",
    "        'http://www.archive.org/download//mirrorofkongho_1704_librivox/mirrorofkongho_1704_librivox_64kb_mp3.zip',\n",
    "        'http://www.archive.org/download//talkingthrush_1703_librivox/talkingthrush_1703_librivox_64kb_mp3.zip',\n",
    "        'http://www.archive.org/download//the_tower_of_london_1711_librivox/the_tower_of_london_1711_librivox_64kb_mp3.zip',\n",
    "        'http://www.archive.org/download//from_slave_cabin_to_pulpit_and_sketches_of_slave_life_1_librivox/from_slave_cabin_to_pulpit_and_sketches_of_slave_life_1_librivox_64kb_mp3.zip',\n",
    "        'http://www.archive.org/download//a_soldier_of_the_legion_1702_librivox/a_soldier_of_the_legion_1702_librivox_64kb_mp3.zip',\n",
    "        'http://www.archive.org/download//ohenryawardstoriesof1919_1702_librivox/ohenryawardstoriesof1919_1702_librivox_64kb_mp3.zip',\n",
    "        'http://www.archive.org/download//famous_assassinations_1612_librivox/famous_assassinations_1612_librivox_64kb_mp3.zip',\n",
    "        'http://www.archive.org/download//crossbrand_1611_librivox/crossbrand_1611_librivox_64kb_mp3.zip',\n",
    "        'http://www.archive.org/download/recollectionsofoscarwilde_1610_librivox/recollectionsofoscarwilde_1610_librivox_64kb_mp3.zip',\n",
    "        'https://archive.org/download/theodore_winthrop_civil_war_narrative_dw_1610_librivox/theodore_winthrop_civil_war_narrative_dw_1610_librivox_64kb_mp3.zip',\n",
    "        'http://www.archive.org/download//sister_dolorosa_dw_1612_librivox/sister_dolorosa_dw_1612_librivox_64kb_mp3.zip',\n",
    "        'https://archive.org/download/walking_stick_papers_dw_1609_librivox/walking_stick_papers_dw_1609_librivox_64kb_mp3.zip',\n",
    "        'http://www.archive.org/download//modernessays_1608_librivox/modernessays_1608_librivox_64kb_mp3.zip',\n",
    "        'http://www.archive.org/download//lettersfromamerica_1608_librivox/lettersfromamerica_1608_librivox_64kb_mp3.zip',\n",
    "        'http://www.archive.org/download//under_sky_california_1607_librivox/under_sky_california_1607_librivox_64kb_mp3.zip',\n",
    "        'http://www.archive.org/download//hospitaltransportsamemoir_1606_librivox/hospitaltransportsamemoir_1606_librivox_64kb_mp3.zip',\n",
    "        'http://www.archive.org/download//ghosts_and_family_legends_a_volume_for_christmas_1606_librivox/ghosts_and_family_legends_a_volume_for_christmas_1606_librivox_64kb_mp3.zip',\n",
    "        'http://www.archive.org/download//kai_lungs_golden_hours_dw_1605_librivox/kai_lungs_golden_hours_dw_1605_librivox_64kb_mp3.zip',\n",
    "        'http://www.archive.org/download//shandygaff_1604_librivox/shandygaff_1604_librivox_64kb_mp3.zip',\n",
    "        'http://www.archive.org/download//doctor_quintard_chaplain_1806_librivox/doctor_quintard_chaplain_1806_librivox_64kb_mp3.zip',\n",
    "        'http://www.archive.org/download//idle_hours_in_a_library_1803_librivox/idle_hours_in_a_library_1803_librivox_64kb_mp3.zip',\n",
    "        'http://www.archive.org/download//timesredcrossstorybook_1603_librivox/timesredcrossstorybook_1603_librivox_64kb_mp3.zip',\n",
    "        'http://www.archive.org/download//tales_lonely_trails_1602_librivox/tales_lonely_trails_1602_librivox_64kb_mp3.zip',\n",
    "        'http://www.archive.org/download//captainkidd_1602_librivox/captainkidd_1602_librivox_64kb_mp3.zip',\n",
    "        'http://www.archive.org/download//romancesiege_1512_librivox/romancesiege_1512_librivox_64kb_mp3.zip',\n",
    "        'http://www.archive.org/download//californiasketches_1512_librivox/californiasketches_1512_librivox_64kb_mp3.zip',\n",
    "        'http://www.archive.org/download//jeremy_dw_1511_librivox/jeremy_dw_1511_librivox_64kb_mp3.zip',\n",
    "        'http://www.archive.org/download//christmasstories_1510_librivox/christmasstories_1510_librivox_64kb_mp3.zip',\n",
    "        'http://www.archive.org/download//mythslegends_britishnorthamerica_1510_librivox/mythslegends_britishnorthamerica_1510_librivox_64kb_mp3.zip',\n",
    "        'http://www.archive.org/download//cathedral_1509_librivox/cathedral_1509_librivox_64kb_mp3.zip',\n",
    "        'http://www.archive.org/download//shepherds_life_dw_1507_librivox/shepherds_life_dw_1507_librivox_64kb_mp3.zip',\n",
    "        'https://archive.org/download/storiesfromwagner_1505_librivox/storiesfromwagner_1505_librivox_64kb_mp3.zip',\n",
    "        'http://www.archive.org/download//gossip_first_decade_victorias_reign_dw_1505_librivox/gossip_first_decade_victorias_reign_dw_1505_librivox_64kb_mp3.zip',\n",
    "        'http://www.archive.org/download//navaloccasions_1504_librivox/navaloccasions_1504_librivox_64kb_mp3.zip',\n",
    "        'http://www.archive.org/download//yellowstone6pieces_1502_librivox/yellowstone6pieces_1502_librivox_64kb_mp3.zip',\n",
    "        'http://www.archive.org/download//earlydaysoldoregon_1502_librivox/earlydaysoldoregon_1502_librivox_64kb_mp3.zip',\n",
    "        'http://www.archive.org/download//christmas_stories_from_french_and_spanish_writers_1501_librivox/christmas_stories_from_french_and_spanish_writers_1501_librivox_64kb_mp3.zip',\n",
    "        'http://www.archive.org/download//barryblakeoftheflyingfortress_1501_librivox/barryblakeoftheflyingfortress_1501_librivox_64kb_mp3.zip',\n",
    "        'http://www.archive.org/download//lincolncommemoration_1412_librivox/lincolncommemoration_1412_librivox_64kb_mp3.zip',\n",
    "        'http://www.archive.org/download//barryblakeoftheflyingfortress_1501_librivox/barryblakeoftheflyingfortress_1501_librivox_64kb_mp3.zip',\n",
    "        'http://www.archive.org/download//dwarfschamber_1412_librivox/dwarfschamber_1412_librivox_64kb_mp3.zip',\n",
    "        'http://www.archive.org/download//saunterings_london_dw_1411_librivox/saunterings_london_dw_1411_librivox_64kb_mp3.zip',\n",
    "        'http://www.archive.org/download//rejectedofmen_1410_librivox/rejectedofmen_1410_librivox_64kb_mp3.zip',\n",
    "        'http://www.archive.org/download//measureofaman_1408_librivox/measureofaman_1408_librivox_64kb_mp3.zip',\n",
    "        'http://www.archive.org/download//dayandnightstories_1407_librivox/dayandnightstories_1407_librivox_64kb_mp3.zip',\n",
    "        'http://www.archive.org/download//benjaminbrittensourcestories_1406_librivox/benjaminbrittensourcestories_1406_librivox_64kb_mp3.zip',\n",
    "        'http://www.archive.org/download//remarkable_rogues_1405_librivox/remarkable_rogues_1405_librivox_64kb_mp3.zip',\n",
    "        'http://www.archive.org/download//inventionsgreatwar_1404_librivox/inventionsgreatwar_1404_librivox_64kb_mp3.zip',\n",
    "        'http://www.archive.org/download//blazedtrailstoriesandstoriesofthewildlife_1404_librivox/blazedtrailstoriesandstoriesofthewildlife_1404_librivox_64kb_mp3.zip',\n",
    "        'http://www.archive.org/download//henry_wirz_trial_1403_librivox/henry_wirz_trial_1403_librivox_64kb_mp3.zip',\n",
    "        'http://www.archive.org/download//finn_the_wolfhound_dw_1403_librivox/finn_the_wolfhound_dw_1403_librivox_64kb_mp3.zip',\n",
    "        'http://www.archive.org/download//andersonvillediaryescape_1403_librivox/andersonvillediaryescape_1403_librivox_64kb_mp3.zip',\n",
    "        'http://www.archive.org/download//texas_cowboy_dw_1401_librivox/texas_cowboy_dw_1401_librivox_64kb_mp3.zip',\n",
    "        'http://www.archive.org/download//lifeslittleironies_1401_librivox/lifeslittleironies_1401_librivox_64kb_mp3.zip',\n",
    "        'https://archive.org/download/thomaswingfoldcurate_1401_librivox/thomaswingfoldcurate_1401_librivox_64kb_mp3.zip',\n",
    "        'http://www.archive.org/download//changed_man_dw_1401_librivox/changed_man_dw_1401_librivox_64kb_mp3.zip',\n",
    "        'http://www.archive.org/download//collectionstoriesreviewsessays_1312_librivox/collectionstoriesreviewsessays_1312_librivox_64kb_mp3.zip',\n",
    "        'http://www.archive.org/download//typhoons_pirate_craft_1311_librivox/typhoons_pirate_craft_1311_librivox_64kb_mp3.zip',\n",
    "        'http://www.archive.org/download//woundsintherain_1310_librivox/woundsintherain_1310_librivox_64kb_mp3.zip',\n",
    "        'http://www.archive.org/download//blackfeettales_1308_librivox/blackfeettales_1308_librivox_64kb_mp3.zip',\n",
    "        'http://www.archive.org/download/bernard_treves_boots_dw_librivox/bernard_treves_boots_dw_librivox_64kb_mp3.zip',\n",
    "        'http://www.archive.org/download/piccadilly_1307_librivox/piccadilly_1307_librivox_64kb_mp3.zip',\n",
    "        'http://www.archive.org/download/abaft_funnel_1307_librivox/abaft_funnel_1307_librivox_64kb_mp3.zip',\n",
    "        'http://www.archive.org/download/christmas_eve_day_1306_librivox/christmas_eve_day_1306_librivox_64kb_mp3.zip',\n",
    "        'http://www.archive.org/download/youth_medusa_troll_dw_librivox/youth_medusa_troll_dw_librivox_64kb_mp3.zip',\n",
    "        'http://www.archive.org/download/manwithoutacountry_1304_librivox/manwithoutacountry_1304_librivox_64kb_mp3.zip',\n",
    "        'http://www.archive.org/download/devotions_upon_emergent_occassions_dw_librivox/devotions_upon_emergent_occassions_dw_librivox_64kb_mp3.zip',\n",
    "        'http://www.archive.org/download/best_american_humorous_short_stories_dw_librivox/best_american_humorous_short_stories_dw_librivox_64kb_mp3.zip',\n",
    "        'http://www.archive.org/download/capecodstories_dw_librivox/capecodstories_dw_librivox_64kb_mp3.zip',\n",
    "        'http://www.archive.org/download/touchofsun_1212_librivox/touchofsun_1212_librivox_64kb_mp3.zip',\n",
    "        'http://www.archive.org/download/inexile_1212_librivox/inexile_1212_librivox_64kb_mp3.zip',\n",
    "        'http://www.archive.org/download/british_short_1922_1210_librivox/british_short_1922_1210_librivox_64kb_mp3.zip',\n",
    "        'http://www.archive.org/download/waltonslives_1209_librivox/waltonslives_1209_librivox_64kb_mp3.zip',\n",
    "        'http://www.archive.org/download/alhambra_dw_librivox/alhambra_dw_librivox_64kb_mp3.zip',\n",
    "        'http://www.archive.org/download/members_family_1207_librivox/members_family_1207_librivox_64kb_mp3.zip',\n",
    "        'http://www.archive.org/download/lin_mclean_1206_librivox/lin_mclean_1206_librivox_64kb_mp3.zip',\n",
    "        'http://www.archive.org/download/in_midst_life_dw_librivox/in_midst_life_dw_librivox_64kb_mp3.zip',\n",
    "        'http://www.archive.org/download/redmenandwhite_1204_librivox/redmenandwhite_1204_librivox_64kb_mp3.zip',\n",
    "        'http://www.archive.org/download/jimmyjohn_boss_dw_librivox/jimmyjohn_boss_dw_librivox_64kb_mp3.zip',\n",
    "        'http://www.archive.org/download/five_tales_dw_librivox/five_tales_dw_librivox_64kb_mp3.zip']"
   ]
  },
  {
   "cell_type": "code",
   "execution_count": null,
   "metadata": {},
   "outputs": [],
   "source": [
    "for url in urls:\n",
    "    file = wget.download(url)\n",
    "    ZipFile(file).extractall(path='./librivox_eng_07/', members=None, pwd=None)\n",
    "    os.remove(file)\n",
    "\n",
    "files = os.listdir('./librivox_eng_07/')\n",
    "filenames = [f.replace('.wav', '') for f in files]\n",
    "file = open(\"./librivox_eng/metadata/name2speaker.txt\",\"a\")\n",
    "for n in range(len(files)):\n",
    "    file.write('librivox_eng_07_' + filenames[n] + ' ' + 'eng07M' + \"\\n\") \n",
    "file.close()\n",
    "\n",
    "# Rename the files to prevent duplicates\n",
    "files = os.listdir('./librivox_eng_07/')\n",
    "for f in files:\n",
    "    os.rename('./librivox_eng_07/' + f, './librivox_eng/wav/librivox_eng_07_' + f)\n",
    "\n",
    "os.rmdir('./librivox_eng_07/')"
   ]
  },
  {
   "cell_type": "code",
   "execution_count": null,
   "metadata": {},
   "outputs": [],
   "source": [
    "urls = ['http://www.archive.org/download//maybetomorrow_1902_librivox/maybetomorrow_1902_librivox_64kb_mp3.zip']"
   ]
  },
  {
   "cell_type": "code",
   "execution_count": null,
   "metadata": {},
   "outputs": [],
   "source": [
    "for url in urls:\n",
    "    file = wget.download(url)\n",
    "    ZipFile(file).extractall(path='./librivox_eng_08/', members=None, pwd=None)\n",
    "    os.remove(file)\n",
    "\n",
    "files = os.listdir('./librivox_eng_08/')\n",
    "filenames = [f.replace('.wav', '') for f in files]\n",
    "file = open(\"./librivox_eng/metadata/name2speaker.txt\",\"a\")\n",
    "for n in range(len(files)):\n",
    "    file.write('librivox_eng_08_' + filenames[n] + ' ' + 'eng08M' + \"\\n\") \n",
    "file.close()\n",
    "\n",
    "# Rename the files to prevent duplicates\n",
    "files = os.listdir('./librivox_eng_08/')\n",
    "for f in files:\n",
    "    os.rename('./librivox_eng_08/' + f, './librivox_eng/wav/librivox_eng_08_' + f)\n",
    "\n",
    "os.rmdir('./librivox_eng_08/')"
   ]
  },
  {
   "cell_type": "code",
   "execution_count": null,
   "metadata": {},
   "outputs": [],
   "source": [
    "urls = ['http://www.archive.org/download//maybetomorrow_1902_librivox/maybetomorrow_1902_librivox_64kb_mp3.zip',\n",
    "        'http://www.archive.org/download//hill_of_dreams_1309_librivox/hill_of_dreams_1309_librivox_64kb_mp3.zip',\n",
    "        'http://www.archive.org/download/hour_dragon_mn_1303_librivox/hour_dragon_mn_1303_librivox_64kb_mp3.zip',\n",
    "        'http://www.archive.org/download/hunchback_notre_dame_mn_libriox/hunchback_notre_dame_mn_libriox_64kb_mp3.zip',\n",
    "        'http://www.archive.org/download/indiscretions_archie_mn_librivox/indiscretions_archie_mn_librivox_64kb_mp3.zip',\n",
    "        'http://www.archive.org/download/intrusion_of_jimmy_1007_librivox/intrusion_of_jimmy_1007_librivox_64kb_mp3.zip',\n",
    "        'http://www.archive.org/download/invaders_from_the_infinite_mn_librivox/invaders_from_the_infinite_mn_librivox_64kb_mp3.zip',\n",
    "        'http://www.archive.org/download/islands_space_1212_librivox/islands_space_1212_librivox_64kb_mp3.zip',\n",
    "        'http://www.archive.org/download//jurgen_1606_librivox/jurgen_1606_librivox_64kb_mp3.zip',\n",
    "        'http://www.archive.org/download//keyoutoftime_2_1405_librivox/keyoutoftime_2_1405_librivox_64kb_mp3.zip',\n",
    "        'http://www.archive.org/download/the_little_nugget_mn_librivox/the_little_nugget_mn_librivox_64kb_mp3.zip',\n",
    "        'http://www.archive.org/download/love_among_the_chickens_librivox/love_among_the_chickens_librivox_64kb_mp3.zip',\n",
    "        'http://www.archive.org/download//mainstreet_1711_librivox/mainstreet_1711_librivox_64kb_mp3.zip',\n",
    "        'http://www.archive.org/download//mastersofspace_1612_librivox/mastersofspace_1612_librivox_64kb_mp3.zip',\n",
    "        'http://www.archive.org/download//milliondollarsuitcase_1702_librivox/milliondollarsuitcase_1702_librivox_64kb_mp3.zip',\n",
    "        'http://www.archive.org/download//monstermen_1707_librivox/monstermen_1707_librivox_64kb_mp3.zip',\n",
    "        'http://www.archive.org/download/moon_pool_1004_librivox/moon_pool_1004_librivox_64kb_mp3.zip',\n",
    "        'http://www.archive.org/download/my_man_jeeves_librivox/my_man_jeeves_librivox_64kb_mp3.zip',\n",
    "        'http://www.archive.org/download//nightland_1501_librivox/nightland_1501_librivox_64kb_mp3.zip',\n",
    "        'http://www.archive.org/download/operation_terror_mn_librivox/operation_terror_mn_librivox_64kb_mp3.zip',\n",
    "        'http://www.archive.org/download/operation_outer_space_1106_librivox/operation_outer_space_1106_librivox_64kb_mp3.zip',\n",
    "        'http://www.archive.org/download//pellucidar_version_2_1410_librivox/pellucidar_version_2_1410_librivox_64kb_mp3.zip',\n",
    "        'http://www.archive.org/download//people_minus_x_1511_librivox/people_minus_x_1511_librivox_64kb_mp3.zip',\n",
    "        'http://www.archive.org/download/plague_ship_librivox/plague_ship_librivox_64kb_mp3.zip',\n",
    "        'http://www.archive.org/download/princess_mars_0810_librivox/princess_mars_0810_librivox_64kb_mp3.zip',\n",
    "        'http://archive.org/download/questgoldenape_1310_librivox/questgoldenape_1310_librivox_64kb_mp3.zip',\n",
    "        'http://www.archive.org/download/rebels_red_planet_0904_librivox/rebels_red_planet_0904_librivox_64kb_mp3.zip',\n",
    "        'http://www.archive.org/download/right_ho_jeeves_librivox/right_ho_jeeves_librivox_64kb_mp3.zip',\n",
    "        'http://www.archive.org/download//rip_foster_gray_planet_mn_1502_librivox/rip_foster_gray_planet_mn_1502_librivox_64kb_mp3.zip',\n",
    "        'http://www.archive.org/download//spaceplatform_1310_librivox/spaceplatform_1310_librivox_64kb_mp3.zip',\n",
    "        'http://www.archive.org/download/space_prison_0911_librivox/space_prison_0911_librivox_64kb_mp3.zip',\n",
    "        'http://www.archive.org/download/space_prison_0911_librivox/space_prison_0911_librivox_64kb_mp3.zip',\n",
    "        'http://www.archive.org/download/space_tug_0809_librivox/space_tug_0809_librivox_64kb_mp3.zip',\n",
    "        'http://www.archive.org/download/space_viking_mn_0809_librivox/space_viking_mn_0809_librivox_64kb_mp3.zip',\n",
    "        'http://www.archive.org/download/spacehounds_of_ipc_1005_librivox/spacehounds_of_ipc_1005_librivox_64kb_mp3.zip',\n",
    "        'http://www.archive.org/download/storm_over_warlock_1012_librivox/storm_over_warlock_1012_librivox_64kb_mp3.zip',\n",
    "        'http://www.archive.org/download/talents_inc_mn_librivox/talents_inc_mn_librivox_64kb_mp3.zip',\n",
    "        'http://www.archive.org/download//thuvia_maid_of_mars_3_1404_librivox/thuvia_maid_of_mars_3_1404_librivox_64kb_mp3.zip',\n",
    "        'http://www.archive.org/download/time_crime_1305_librivox/time_crime_1305_librivox_64kb_mp3.zip',\n",
    "        'http://www.archive.org/download/timetraders_mn_1211/timetraders_mn_1211_64kb_mp3.zip',\n",
    "        'http://www.archive.org/download/tomswift_planetx_mn_librivox/tomswift_planetx_mn_librivox_64kb_mp3.zip',\n",
    "        'http://www.archive.org/download//unwise_child_1401_librivox/unwise_child_1401_librivox_64kb_mp3.zip',\n",
    "        'http://www.archive.org/download//up_from_slavery_1703_librivox/up_from_slavery_1703_librivox_64kb_mp3.zip',\n",
    "        'http://www.archive.org/download/voyagetoarcturus_mn_librivox/voyagetoarcturus_mn_librivox_64kb_mp3.zip',\n",
    "        'http://www.archive.org/download//wailingasteroid_1511_librivox/wailingasteroid_1511_librivox_64kb_mp3.zip',\n",
    "        'http://www.archive.org/download//wandl_the_invader_1505_librivox/wandl_the_invader_1505_librivox_64kb_mp3.zip',\n",
    "        'http://www.archive.org/download//warlordmars3_1409_librivox/warlordmars3_1409_librivox_64kb_mp3.zip']"
   ]
  },
  {
   "cell_type": "code",
   "execution_count": null,
   "metadata": {},
   "outputs": [],
   "source": [
    "for url in urls:\n",
    "    file = wget.download(url)\n",
    "    ZipFile(file).extractall(path='./librivox_eng_09/', members=None, pwd=None)\n",
    "    os.remove(file)\n",
    "\n",
    "files = os.listdir('./librivox_eng_09/')\n",
    "filenames = [f.replace('.wav', '') for f in files]\n",
    "file = open(\"./librivox_eng/metadata/name2speaker.txt\",\"a\")\n",
    "for n in range(len(files)):\n",
    "    file.write('librivox_eng_09_' + filenames[n] + ' ' + 'eng09M' + \"\\n\") \n",
    "file.close()\n",
    "\n",
    "# Rename the files to prevent duplicates\n",
    "files = os.listdir('./librivox_eng_09/')\n",
    "for f in files:\n",
    "    os.rename('./librivox_eng_09/' + f, './librivox_eng/wav/librivox_eng_09_' + f)\n",
    "\n",
    "os.rmdir('./librivox_eng_09/')"
   ]
  },
  {
   "cell_type": "code",
   "execution_count": null,
   "metadata": {},
   "outputs": [],
   "source": [
    "urls = ['http://www.archive.org/download//whitecross_1903_librivox/whitecross_1903_librivox_64kb_mp3.zip',\n",
    "        'http://www.archive.org/download//the_red_inn_1904_librivox/the_red_inn_1904_librivox_64kb_mp3.zip',\n",
    "        'http://www.archive.org/download//snare_1904_librivox/snare_1904_librivox_64kb_mp3.zip']"
   ]
  },
  {
   "cell_type": "code",
   "execution_count": null,
   "metadata": {},
   "outputs": [],
   "source": [
    "for url in urls:\n",
    "    file = wget.download(url)\n",
    "    ZipFile(file).extractall(path='./librivox_eng_10/', members=None, pwd=None)\n",
    "    os.remove(file)\n",
    "\n",
    "files = os.listdir('./librivox_eng_10/')\n",
    "filenames = [f.replace('.wav', '') for f in files]\n",
    "file = open(\"./librivox_eng/metadata/name2speaker.txt\",\"a\")\n",
    "for n in range(len(files)):\n",
    "    file.write('librivox_eng_10_' + filenames[n] + ' ' + 'eng10M' + \"\\n\") \n",
    "file.close()\n",
    "\n",
    "# Rename the files to prevent duplicates\n",
    "files = os.listdir('./librivox_eng_10/')\n",
    "for f in files:\n",
    "    os.rename('./librivox_eng_10/' + f, './librivox_eng/wav/librivox_eng_10_' + f)\n",
    "\n",
    "os.rmdir('./librivox_eng_10/')"
   ]
  },
  {
   "cell_type": "markdown",
   "metadata": {},
   "source": [
    "Warning: the following box runs sox to convert the audio into the desired wav format. If it is only run once, after all librivox_eng files are collected, the size of the corpus may double before the .mp3 files are removed. A better method is preferred. "
   ]
  },
  {
   "cell_type": "code",
   "execution_count": null,
   "metadata": {},
   "outputs": [],
   "source": [
    "%%bash\n",
    "cd librivox_eng/wav\n",
    "for f in *.mp3; do sox -t mp3 \"$f\" -b 16 -r 16000 -t wav \"${f%.*}.wav\"; done\n",
    "rm *.mp3\n",
    "sox --i *"
   ]
  },
  {
   "cell_type": "markdown",
   "metadata": {},
   "source": [
    "## bible_ENG"
   ]
  },
  {
   "cell_type": "code",
   "execution_count": null,
   "metadata": {},
   "outputs": [],
   "source": [
    "%%bash\n",
    "mkdir ./bible_eng\n",
    "mkdir ./bible_eng/metadata\n",
    "mkdir ./bible_eng/wav"
   ]
  },
  {
   "cell_type": "code",
   "execution_count": null,
   "metadata": {},
   "outputs": [],
   "source": [
    "urls = ['https://publicdomainaudiobibles.com/content/mp3/BBE/BBEM/BBEM_complete.zip']"
   ]
  },
  {
   "cell_type": "code",
   "execution_count": null,
   "metadata": {},
   "outputs": [],
   "source": [
    "for url in urls:\n",
    "    file = wget.download(url)\n",
    "    ZipFile(file).extractall(path='./bible_eng/wav', members=None, pwd=None)\n",
    "    os.remove(file)\n",
    "\n",
    "# Rename the files to prevent duplicates\n",
    "files = os.listdir('./bible_eng/wav')\n",
    "for f in files:\n",
    "    os.rename('./bible_eng/wav/' + f, './bible_eng/wav/bible_eng_' + f)"
   ]
  },
  {
   "cell_type": "code",
   "execution_count": null,
   "metadata": {},
   "outputs": [],
   "source": [
    "%%bash\n",
    "cd bible_eng/wav\n",
    "for f in *.mp3; do sox -t mp3 \"$f\" -b 16 -r 16000 -t wav \"${f%.*}.wav\"; done\n",
    "rm *.mp3\n",
    "sox --i *"
   ]
  },
  {
   "cell_type": "markdown",
   "metadata": {},
   "source": [
    "## bible_JPN"
   ]
  },
  {
   "cell_type": "code",
   "execution_count": null,
   "metadata": {},
   "outputs": [],
   "source": [
    "%%bash\n",
    "mkdir ./bible_jpn\n",
    "mkdir ./bible_jpn/metadata\n",
    "mkdir ./bible_jpn/wav"
   ]
  },
  {
   "cell_type": "code",
   "execution_count": null,
   "metadata": {},
   "outputs": [],
   "source": [
    "urls = ['https://archive.org/compress/john_22']"
   ]
  },
  {
   "cell_type": "code",
   "execution_count": null,
   "metadata": {},
   "outputs": [],
   "source": [
    "for url in urls:\n",
    "    file = wget.download(url)\n",
    "    ZipFile(file).extractall(path='./bible_jpn/wav', members=None, pwd=None)\n",
    "    os.remove(file)\n",
    "\n",
    "# Rename the files to prevent duplicates\n",
    "files = os.listdir('./bible_jpn/wav')\n",
    "for f in files:\n",
    "    os.rename('./bible_jpn/wav/' + f, './bible_jpn/wav/bible_jpn_' + f)"
   ]
  },
  {
   "cell_type": "code",
   "execution_count": null,
   "metadata": {},
   "outputs": [],
   "source": [
    "%%bash\n",
    "cd bible_jpn/wav\n",
    "for f in *.mp3; do sox -t mp3 \"$f\" -b 16 -r 16000 -t wav \"${f%.*}.wav\"; done\n",
    "rm *.mp3\n",
    "sox --i *"
   ]
  },
  {
   "cell_type": "markdown",
   "metadata": {},
   "source": [
    "# Code for creating metadata"
   ]
  },
  {
   "cell_type": "code",
   "execution_count": null,
   "metadata": {},
   "outputs": [],
   "source": [
    "# name2path.txt\n",
    "files = os.listdir('./librivox_jpn/wav/')\n",
    "filenames = [f.replace('.wav', '') for f in files]\n",
    "file = open(\"./librivox_jpn/metadata/name2path.txt\",\"w\")\n",
    "for n in range(len(files)):\n",
    "    file.write(filenames[n] + ' ' + files[n] + \"\\n\") \n",
    "file.close()\n",
    "\n",
    "files = os.listdir('./bible_jpn/wav/')\n",
    "filenames = [f.replace('.wav', '') for f in files]\n",
    "file = open(\"./bible_jpn/metadata/name2path.txt\",\"w\")\n",
    "for n in range(len(files)):\n",
    "    file.write(filenames[n] + ' ' + files[n] + \"\\n\") \n",
    "file.close()\n",
    "\n",
    "files = os.listdir('./bible_eng/wav/')\n",
    "filenames = [f.replace('.wav', '') for f in files]\n",
    "file = open(\"./bible_eng/metadata/name2path.txt\",\"w\")\n",
    "for n in range(len(files)):\n",
    "    file.write(filenames[n] + ' ' + files[n] + \"\\n\") \n",
    "file.close()\n",
    "\n",
    "files = os.listdir('./librivox_eng/wav/')\n",
    "filenames = [f.replace('.wav', '') for f in files]\n",
    "file = open(\"./librivox_eng/metadata/name2path.txt\",\"w\")\n",
    "for n in range(len(files)):\n",
    "    file.write(filenames[n] + ' ' + files[n] + \"\\n\") \n",
    "file.close()"
   ]
  },
  {
   "cell_type": "code",
   "execution_count": null,
   "metadata": {},
   "outputs": [],
   "source": [
    "# name2speaker.txt\n",
    "files = os.listdir('./librivox_jpn/wav/')\n",
    "filenames = [f.replace('.wav', '') for f in files]\n",
    "file = open(\"./librivox_jpn/metadata/name2speaker.txt\",\"w\")\n",
    "for n in range(len(files)):\n",
    "    file.write(filenames[n] + ' ' + 'jpn00M' + \"\\n\")\n",
    "file.close()\n",
    "\n",
    "# For librivox_eng, this file is created in the process of downloading & formatting.\n",
    "\n",
    "files = os.listdir('./bible_eng/wav/')\n",
    "filenames = [f.replace('.wav', '') for f in files]\n",
    "file = open(\"./bible_eng/metadata/name2speaker.txt\",\"w\")\n",
    "for n in range(len(files)):\n",
    "    file.write(filenames[n] + ' ' + 'eng00M' + \"\\n\")\n",
    "file.close()\n",
    "\n",
    "# For bible_jpn, this file is created by hand and will be copied to the directory: \n",
    "\n",
    "os.rename(\"./name2speaker_biblejpn.txt\", \"./bible_jpn/metadata/name2speaker.txt\")"
   ]
  }
 ],
 "metadata": {
  "kernelspec": {
   "display_name": "Python 3",
   "language": "python",
   "name": "python3"
  },
  "language_info": {
   "codemirror_mode": {
    "name": "ipython",
    "version": 3
   },
   "file_extension": ".py",
   "mimetype": "text/x-python",
   "name": "python",
   "nbconvert_exporter": "python",
   "pygments_lexer": "ipython3",
   "version": "3.7.3"
  }
 },
 "nbformat": 4,
 "nbformat_minor": 2
}
